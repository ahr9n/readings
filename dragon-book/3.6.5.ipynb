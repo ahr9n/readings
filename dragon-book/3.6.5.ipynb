{
 "cells": [
  {
   "cell_type": "markdown",
   "metadata": {},
   "source": [
    "<h1 align=\"center\">Exercises for Section 3.6</h1>"
   ]
  },
  {
   "cell_type": "markdown",
   "metadata": {},
   "source": [
    "**! Exercise 3.6.1:** Figure 3.19 in the exercises of Section 3.4 computes the failure function for the KMP algorithm. Show how, given that failure function, we can construct, from a keyword b1b2...bn an (n+1)-state DFA that recognizes .*b1b2...bn, where the dot stands for \"any character.\" Moreover, this DFA can be constructed in O(n) time."
   ]
  },
  {
   "cell_type": "markdown",
   "metadata": {},
   "source": [
    "**Answer:** Given the string `abbaabb` in exercise 3.4.3.c as an example, the failure function is: (0, 0, 0, 1, 1, 2, 3), and the DFA accepting `abbaabb` is:\n",
    "\n",
    "![dfa](https://user-images.githubusercontent.com/52632898/149030561-02711737-f7a3-464f-8346-b52b5dcce7c3.png)\n",
    "\n",
    "By failure and match, we got the transition, and this DFA can be constructed in O(n) time."
   ]
  },
  {
   "cell_type": "markdown",
   "metadata": {},
   "source": [
    "**Exercise 3.6.2:** Design finite automata (deterministic or nondeterministic) for each of the languages of Exercise 3.3.5."
   ]
  },
  {
   "cell_type": "markdown",
   "metadata": {},
   "source": [
    "**Answer:** See [exercise 3.4.2](https://github.com/ahr9n/readings/blob/main/dragon-book/3.4.5.md)."
   ]
  },
  {
   "cell_type": "markdown",
   "metadata": {},
   "source": [
    "**Exercise 3.6.3:** For the NFA of Fig. 3.29, indicate all the paths labeled _aabb_. Does the NFA accept _aabb_?\n",
    "\n",
    "![3.29](https://user-images.githubusercontent.com/52632898/149175116-13f8849b-aad9-42c4-9167-44d8ea1b0271.png)\n",
    "\n",
    "Figure 3.29: NFA for Exercise 3.6.3"
   ]
  },
  {
   "cell_type": "markdown",
   "metadata": {},
   "source": [
    "* $0 \\overset{a}{\\rightarrow} 0 \\overset{a}{\\rightarrow} 0 \\overset{b}{\\rightarrow} 0 \\overset{b}{\\rightarrow} 0$\n",
    "* $0 \\overset{a}{\\rightarrow} 0 \\overset{a}{\\rightarrow} 1 \\overset{b}{\\rightarrow} 1 \\overset{b}{\\rightarrow} 1$\n",
    "* $0 \\overset{a}{\\rightarrow} 1 \\overset{a}{\\rightarrow} 1 \\overset{b}{\\rightarrow} 1 \\overset{b}{\\rightarrow} 1$\n",
    "* $0 \\overset{a}{\\rightarrow} 1 \\overset{a}{\\rightarrow} 2  \\overset{\\epsilon}{\\rightarrow} 0 \\overset{b}{\\rightarrow} 0 \\overset{b}{\\rightarrow} 0$\n",
    "* $0 \\overset{a}{\\rightarrow} 1 \\overset{a}{\\rightarrow} 2 \\overset{b}{\\rightarrow} 2 \\overset{\\epsilon}{\\rightarrow} 0 \\overset{b}{\\rightarrow} 0$\n",
    "* $0 \\overset{a}{\\rightarrow} 1 \\overset{a}{\\rightarrow} 2 \\overset{b}{\\rightarrow} 2 \\overset{b}{\\rightarrow} 2$\n",
    "* $0 \\overset{a}{\\rightarrow} 1 \\overset{a}{\\rightarrow} 2 \\overset{b}{\\rightarrow} 2 \\overset{b}{\\rightarrow} 3$\n",
    "\n",
    "The NFA accepts `aabb`."
   ]
  },
  {
   "cell_type": "markdown",
   "metadata": {},
   "source": [
    "**Exercise 3.6.4:** Repeat Exercise 3.6.3 for the NFA of Fig. 3.30.\n",
    "\n",
    "![3.30](https://user-images.githubusercontent.com/52632898/149175596-5f7a3465-2075-4b32-be61-03f3412485d1.png)\n",
    "\n",
    "Figure 3.30: NFA for Exercise 3.6.4"
   ]
  },
  {
   "cell_type": "markdown",
   "metadata": {},
   "source": [
    "* $0 \\overset{\\epsilon}{\\rightarrow} 3 \\overset{a}{\\rightarrow} 0 \\overset{\\epsilon}{\\rightarrow} 3 \\overset{a}{\\rightarrow} 0 \\overset{\\epsilon}{\\rightarrow} 3 \\overset{\\epsilon}{\\rightarrow} 2 \\overset{\\epsilon}{\\rightarrow} 1 \\overset{b}{\\rightarrow} 2 \\overset{\\epsilon}{\\rightarrow} 1 \\overset{b}{\\rightarrow} 2$\n",
    "* $0 \\overset{\\epsilon}{\\rightarrow} 3 \\overset{a}{\\rightarrow} 0 \\overset{\\epsilon}{\\rightarrow} 3 \\overset{a}{\\rightarrow} 0 \\overset{\\epsilon}{\\rightarrow} 3 \\overset{\\epsilon}{\\rightarrow} 2 \\overset{\\epsilon}{\\rightarrow} 1 \\overset{b}{\\rightarrow} 2 \\overset{b}{\\rightarrow} 3$\n",
    "* $0 \\overset{\\epsilon}{\\rightarrow} 3 \\overset{a}{\\rightarrow} 0 \\overset{\\epsilon}{\\rightarrow} 3 \\overset{a}{\\rightarrow} 0 \\overset{\\epsilon}{\\rightarrow} 3 \\overset{\\epsilon}{\\rightarrow} 2 \\overset{b}{\\rightarrow} 3 \\overset{\\epsilon}{\\rightarrow} 2 \\overset{\\epsilon}{\\rightarrow} 1 \\overset{b}{\\rightarrow} 2$\n",
    "* $0 \\overset{\\epsilon}{\\rightarrow} 3 \\overset{a}{\\rightarrow} 0 \\overset{\\epsilon}{\\rightarrow} 3 \\overset{a}{\\rightarrow} 0 \\overset{\\epsilon}{\\rightarrow} 3 \\overset{\\epsilon}{\\rightarrow} 2 \\overset{b}{\\rightarrow} 3 \\overset{\\epsilon}{\\rightarrow} 2 \\overset{b}{\\rightarrow} 3$\n",
    "* $0 \\overset{\\epsilon}{\\rightarrow} 3 \\overset{a}{\\rightarrow} 0 \\overset{a}{\\rightarrow} 1 \\overset{\\epsilon}{\\rightarrow} 0 \\overset{\\epsilon}{\\rightarrow} 3 \\overset{\\epsilon}{\\rightarrow} 2 \\overset{b}{\\rightarrow} 3 \\overset{\\epsilon}{\\rightarrow} 2 \\overset{\\epsilon}{\\rightarrow} 1 \\overset{b}{\\rightarrow} 2$\n",
    "* $0 \\overset{\\epsilon}{\\rightarrow} 3 \\overset{a}{\\rightarrow} 0 \\overset{a}{\\rightarrow} 1 \\overset{\\epsilon}{\\rightarrow} 0 \\overset{\\epsilon}{\\rightarrow} 3 \\overset{\\epsilon}{\\rightarrow} 2 \\overset{b}{\\rightarrow} 3 \\overset{\\epsilon}{\\rightarrow} 2 \\overset{b}{\\rightarrow} 3$\n",
    "* $0 \\overset{\\epsilon}{\\rightarrow} 3 \\overset{a}{\\rightarrow} 0 \\overset{a}{\\rightarrow} 1 \\overset{b}{\\rightarrow} 2 \\overset{\\epsilon}{\\rightarrow} 1 \\overset{b}{\\rightarrow} 2$\n",
    "* $0 \\overset{\\epsilon}{\\rightarrow} 3 \\overset{a}{\\rightarrow} 0 \\overset{a}{\\rightarrow} 1 \\overset{b}{\\rightarrow} 2 \\overset{b}{\\rightarrow} 3$\n",
    "* $0 \\overset{a}{\\rightarrow} 1 \\overset{\\epsilon}{\\rightarrow} 0 \\overset{\\epsilon}{\\rightarrow} 3 \\overset{a}{\\rightarrow} 0 \\overset{\\epsilon}{\\rightarrow} 3 \\overset{\\epsilon}{\\rightarrow} 2 \\overset{\\epsilon}{\\rightarrow} 1 \\overset{b}{\\rightarrow} 2 \\overset{\\epsilon}{\\rightarrow} 1 \\overset{b}{\\rightarrow} 2$\n",
    "* $0 \\overset{a}{\\rightarrow} 1 \\overset{\\epsilon}{\\rightarrow} 0 \\overset{\\epsilon}{\\rightarrow} 3 \\overset{a}{\\rightarrow} 0 \\overset{\\epsilon}{\\rightarrow} 3 \\overset{\\epsilon}{\\rightarrow} 2 \\overset{\\epsilon}{\\rightarrow} 1 \\overset{b}{\\rightarrow} 2 \\overset{b}{\\rightarrow} 3$\n",
    "* $0 \\overset{a}{\\rightarrow} 1 \\overset{\\epsilon}{\\rightarrow} 0 \\overset{\\epsilon}{\\rightarrow} 3 \\overset{a}{\\rightarrow} 0 \\overset{\\epsilon}{\\rightarrow} 3 \\overset{\\epsilon}{\\rightarrow} 2 \\overset{b}{\\rightarrow} 3 \\overset{\\epsilon}{\\rightarrow} 2 \\overset{\\epsilon}{\\rightarrow} 1 \\overset{b}{\\rightarrow} 2$\n",
    "* $0 \\overset{a}{\\rightarrow} 1 \\overset{\\epsilon}{\\rightarrow} 0 \\overset{\\epsilon}{\\rightarrow} 3 \\overset{a}{\\rightarrow} 0 \\overset{\\epsilon}{\\rightarrow} 3 \\overset{\\epsilon}{\\rightarrow} 2 \\overset{b}{\\rightarrow} 3 \\overset{\\epsilon}{\\rightarrow} 2 \\overset{b}{\\rightarrow} 3$\n",
    "* $0 \\overset{a}{\\rightarrow} 1 \\overset{\\epsilon}{\\rightarrow} 0 \\overset{a}{\\rightarrow} 1 \\overset{\\epsilon}{\\rightarrow} 0 \\overset{\\epsilon}{\\rightarrow} 3 \\overset{\\epsilon}{\\rightarrow} 2 \\overset{b}{\\rightarrow} 3 \\overset{\\epsilon}{\\rightarrow} 2 \\overset{\\epsilon}{\\rightarrow} 1 \\overset{b}{\\rightarrow} 2$\n",
    "* $0 \\overset{a}{\\rightarrow} 1 \\overset{\\epsilon}{\\rightarrow} 0 \\overset{a}{\\rightarrow} 1 \\overset{\\epsilon}{\\rightarrow} 0 \\overset{\\epsilon}{\\rightarrow} 3 \\overset{\\epsilon}{\\rightarrow} 2 \\overset{b}{\\rightarrow} 3 \\overset{\\epsilon}{\\rightarrow} 2 \\overset{b}{\\rightarrow} 3$\n",
    "* $0 \\overset{a}{\\rightarrow} 1 \\overset{\\epsilon}{\\rightarrow} 0 \\overset{a}{\\rightarrow} 1 \\overset{b}{\\rightarrow} 2 \\overset{\\epsilon}{\\rightarrow} 1 \\overset{b}{\\rightarrow} 2$\n",
    "* $0 \\overset{a}{\\rightarrow} 1 \\overset{\\epsilon}{\\rightarrow} 0 \\overset{a}{\\rightarrow} 1 \\overset{b}{\\rightarrow} 2 \\overset{b}{\\rightarrow} 3$"
   ]
  },
  {
   "cell_type": "markdown",
   "metadata": {},
   "source": [
    "### 3.6.5\n",
    "\n",
    "> Give the transition tables for the NFA of:\n",
    "\n",
    "> a) Exercise 3.6.3."
   ]
  },
  {
   "cell_type": "markdown",
   "metadata": {},
   "source": [
    "| STATE | $a$ | $b$ | $\\epsilon$ |\n",
    "|:-----:|:-----:|:-----:|:------------:|\n",
    "|   0   | $\\{0, 1\\}$ | $\\{ 0 \\}$ | $\\varnothing$ |\n",
    "|   1   | $\\{1, 2\\}$ | $\\{ 1 \\}$ | $\\varnothing$ |\n",
    "|   2   | $\\{ 2 \\}$ | $\\{2, 3\\}$ | $\\{ 0 \\}$ |\n",
    "|   3   | $\\varnothing$ | $\\varnothing$ | $\\varnothing$ |"
   ]
  },
  {
   "cell_type": "markdown",
   "metadata": {},
   "source": [
    "> b) Exercise 3.6.4."
   ]
  },
  {
   "cell_type": "markdown",
   "metadata": {},
   "source": [
    "| STATE | $a$ | $b$ | $\\epsilon$ |\n",
    "|:-----:|:-----:|:-----:|:------------:|\n",
    "|   0   | $\\{1\\}$ | $\\varnothing$ | $\\{3\\}$ |\n",
    "|   1   | $\\varnothing$ | $\\{2\\}$ | $\\{0\\}$ |\n",
    "|   2   | $\\varnothing$ | $\\{3\\}$ | $\\{1\\}$ |\n",
    "|   3   | $\\{0\\}$ | $\\varnothing$ | $\\{2\\}$ |"
   ]
  },
  {
   "cell_type": "markdown",
   "metadata": {},
   "source": [
    "> c) Figure 3.26 (NFA accepting the language `aa*|bb*`).",
    "\n\n",
    "![3.26](https://user-images.githubusercontent.com/52632898/149175691-28291e48-e820-42c0-a6bf-0a52ff8aa8e6.png)"
   ]
  },
  {
   "cell_type": "markdown",
   "metadata": {},
   "source": [
    "| STATE | $a$ | $b$ | $\\epsilon$ |\n",
    "|:-----:|:-----:|:-----:|:------------:|\n",
    "|   0   | $\\varnothing$ | $\\varnothing$ | $\\{1, 3\\}$ |\n",
    "|   1   | $\\{2\\}$ | $\\varnothing$ | $\\varnothing$ |\n",
    "|   2   | $\\{2\\}$ | $\\varnothing$ | $\\varnothing$ |\n",
    "|   3   | $\\varnothing$ | $\\{4\\}$ | $\\varnothing$ |\n",
    "|   4   | $\\varnothing$ | $\\{4\\}$ | $\\varnothing$ |"
   ]
  }
 ],
 "metadata": {
  "kernelspec": {
   "display_name": "Python 2",
   "language": "python",
   "name": "python2"
  },
  "language_info": {
   "codemirror_mode": {
    "name": "ipython",
    "version": 2
   },
   "file_extension": ".py",
   "mimetype": "text/x-python",
   "name": "python",
   "nbconvert_exporter": "python",
   "pygments_lexer": "ipython2",
   "version": "2.7.12"
  }
 },
 "nbformat": 4,
 "nbformat_minor": 2
}
